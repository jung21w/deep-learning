{
 "cells": [
  {
   "cell_type": "markdown",
   "metadata": {
    "collapsed": true
   },
   "source": [
    "# Image Classification\n",
    "In this project, you'll classify images from the [CIFAR-10 dataset](https://www.cs.toronto.edu/~kriz/cifar.html).  The dataset consists of airplanes, dogs, cats, and other objects. You'll preprocess the images, then train a convolutional neural network on all the samples. The images need to be normalized and the labels need to be one-hot encoded.  You'll get to apply what you learned and build a convolutional, max pooling, dropout, and fully connected layers.  At the end, you'll get to see your neural network's predictions on the sample images.\n",
    "## Get the Data\n",
    "Run the following cell to download the [CIFAR-10 dataset for python](https://www.cs.toronto.edu/~kriz/cifar-10-python.tar.gz)."
   ]
  },
  {
   "cell_type": "code",
   "execution_count": 1,
   "metadata": {},
   "outputs": [
    {
     "name": "stdout",
     "output_type": "stream",
     "text": [
      "All files found!\n"
     ]
    }
   ],
   "source": [
    "\"\"\"\n",
    "DON'T MODIFY ANYTHING IN THIS CELL THAT IS BELOW THIS LINE\n",
    "\"\"\"\n",
    "from urllib.request import urlretrieve\n",
    "from os.path import isfile, isdir\n",
    "from tqdm import tqdm\n",
    "import problem_unittests as tests\n",
    "import tarfile\n",
    "\n",
    "cifar10_dataset_folder_path = 'cifar-10-batches-py'\n",
    "\n",
    "# Use Floyd's cifar-10 dataset if present\n",
    "floyd_cifar10_location = '/input/cifar-10/python.tar.gz'\n",
    "if isfile(floyd_cifar10_location):\n",
    "    tar_gz_path = floyd_cifar10_location\n",
    "else:\n",
    "    tar_gz_path = 'cifar-10-python.tar.gz'\n",
    "\n",
    "class DLProgress(tqdm):\n",
    "    last_block = 0\n",
    "\n",
    "    def hook(self, block_num=1, block_size=1, total_size=None):\n",
    "        self.total = total_size\n",
    "        self.update((block_num - self.last_block) * block_size)\n",
    "        self.last_block = block_num\n",
    "\n",
    "if not isfile(tar_gz_path):\n",
    "    with DLProgress(unit='B', unit_scale=True, miniters=1, desc='CIFAR-10 Dataset') as pbar:\n",
    "        urlretrieve(\n",
    "            'https://www.cs.toronto.edu/~kriz/cifar-10-python.tar.gz',\n",
    "            tar_gz_path,\n",
    "            pbar.hook)\n",
    "\n",
    "if not isdir(cifar10_dataset_folder_path):\n",
    "    with tarfile.open(tar_gz_path) as tar:\n",
    "        tar.extractall()\n",
    "        tar.close()\n",
    "\n",
    "\n",
    "tests.test_folder_path(cifar10_dataset_folder_path)"
   ]
  },
  {
   "cell_type": "markdown",
   "metadata": {},
   "source": [
    "## Explore the Data\n",
    "The dataset is broken into batches to prevent your machine from running out of memory.  The CIFAR-10 dataset consists of 5 batches, named `data_batch_1`, `data_batch_2`, etc.. Each batch contains the labels and images that are one of the following:\n",
    "* airplane\n",
    "* automobile\n",
    "* bird\n",
    "* cat\n",
    "* deer\n",
    "* dog\n",
    "* frog\n",
    "* horse\n",
    "* ship\n",
    "* truck\n",
    "\n",
    "Understanding a dataset is part of making predictions on the data.  Play around with the code cell below by changing the `batch_id` and `sample_id`. The `batch_id` is the id for a batch (1-5). The `sample_id` is the id for a image and label pair in the batch.\n",
    "\n",
    "Ask yourself \"What are all possible labels?\", \"What is the range of values for the image data?\", \"Are the labels in order or random?\".  Answers to questions like these will help you preprocess the data and end up with better predictions."
   ]
  },
  {
   "cell_type": "code",
   "execution_count": 2,
   "metadata": {},
   "outputs": [
    {
     "name": "stdout",
     "output_type": "stream",
     "text": [
      "\n",
      "Stats of batch 1:\n",
      "Samples: 10000\n",
      "Label Counts: {0: 1005, 1: 974, 2: 1032, 3: 1016, 4: 999, 5: 937, 6: 1030, 7: 1001, 8: 1025, 9: 981}\n",
      "First 20 Labels: [6, 9, 9, 4, 1, 1, 2, 7, 8, 3, 4, 7, 7, 2, 9, 9, 9, 3, 2, 6]\n",
      "\n",
      "Example of Image 5:\n",
      "Image - Min Value: 0 Max Value: 252\n",
      "Image - Shape: (32, 32, 3)\n",
      "Label - Label Id: 1 Name: automobile\n"
     ]
    },
    {
     "data": {
      "image/png": "[encoded data removed]",
      "text/plain": [
       "<matplotlib.figure.Figure at 0x7f6f95bbc828>"
      ]
     },
     "metadata": {
      "image/png": {
       "height": 250,
       "width": 253
      }
     },
     "output_type": "display_data"
    }
   ],
   "source": [
    "%matplotlib inline\n",
    "%config InlineBackend.figure_format = 'retina'\n",
    "\n",
    "import helper\n",
    "import numpy as np\n",
    "\n",
    "# Explore the dataset\n",
    "batch_id = 1\n",
    "sample_id = 5\n",
    "helper.display_stats(cifar10_dataset_folder_path, batch_id, sample_id)"
   ]
  },
  {
   "cell_type": "markdown",
   "metadata": {},
   "source": [
    "## Implement Preprocess Functions\n",
    "### Normalize\n",
    "In the cell below, implement the `normalize` function to take in image data, `x`, and return it as a normalized Numpy array. The values should be in the range of 0 to 1, inclusive.  The return object should be the same shape as `x`."
   ]
  },
  {
   "cell_type": "code",
   "execution_count": 3,
   "metadata": {},
   "outputs": [
    {
     "name": "stdout",
     "output_type": "stream",
     "text": [
      "Tests Passed\n"
     ]
    }
   ],
   "source": [
    "def normalize(x):\n",
    "    \"\"\"\n",
    "    Normalize a list of sample image data in the range of 0 to 1\n",
    "    : x: List of image data.  The image shape is (32, 32, 3)\n",
    "    : return: Numpy array of normalize data\n",
    "    \"\"\"\n",
    "    # TODO: Implement Function\n",
    "    \n",
    "    return x / 255\n",
    "\n",
    "\n",
    "\"\"\"\n",
    "DON'T MODIFY ANYTHING IN THIS CELL THAT IS BELOW THIS LINE\n",
    "\"\"\"\n",
    "tests.test_normalize(normalize)"
   ]
  },
  {
   "cell_type": "markdown",
   "metadata": {},
   "source": [
    "### One-hot encode\n",
    "Just like the previous code cell, you'll be implementing a function for preprocessing.  This time, you'll implement the `one_hot_encode` function. The input, `x`, are a list of labels.  Implement the function to return the list of labels as One-Hot encoded Numpy array.  The possible values for labels are 0 to 9. The one-hot encoding function should return the same encoding for each value between each call to `one_hot_encode`.  Make sure to save the map of encodings outside the function.\n",
    "\n",
    "Hint: Don't reinvent the wheel."
   ]
  },
  {
   "cell_type": "code",
   "execution_count": 4,
   "metadata": {},
   "outputs": [
    {
     "name": "stdout",
     "output_type": "stream",
     "text": [
      "Tests Passed\n"
     ]
    }
   ],
   "source": [
    "def one_hot_encode(x):\n",
    "    \"\"\"\n",
    "    One hot encode a list of sample labels. Return a one-hot encoded vector for each label.\n",
    "    : x: List of sample Labels\n",
    "    : return: Numpy array of one-hot encoded labels\n",
    "    \"\"\"\n",
    "    # TODO: Implement Function\n",
    "    \n",
    "    vectors = []\n",
    "    for label in x:\n",
    "        one_hot = []\n",
    "        for i in range(10):\n",
    "            if i == label:\n",
    "                one_hot.append(1)\n",
    "            else:\n",
    "                one_hot.append(0)\n",
    "        vectors.append(one_hot)\n",
    "    \n",
    "    return np.array(vectors)\n",
    "\n",
    "\n",
    "\"\"\"\n",
    "DON'T MODIFY ANYTHING IN THIS CELL THAT IS BELOW THIS LINE\n",
    "\"\"\"\n",
    "tests.test_one_hot_encode(one_hot_encode)"
   ]
  },
  {
   "cell_type": "markdown",
   "metadata": {},
   "source": [
    "### Randomize Data\n",
    "As you saw from exploring the data above, the order of the samples are randomized.  It doesn't hurt to randomize it again, but you don't need to for this dataset."
   ]
  },
  {
   "cell_type": "markdown",
   "metadata": {},
   "source": [
    "## Preprocess all the data and save it\n",
    "Running the code cell below will preprocess all the CIFAR-10 data and save it to file. The code below also uses 10% of the training data for validation."
   ]
  },
  {
   "cell_type": "code",
   "execution_count": 5,
   "metadata": {
    "collapsed": true
   },
   "outputs": [],
   "source": [
    "\"\"\"\n",
    "DON'T MODIFY ANYTHING IN THIS CELL\n",
    "\"\"\"\n",
    "# Preprocess Training, Validation, and Testing Data\n",
    "helper.preprocess_and_save_data(cifar10_dataset_folder_path, normalize, one_hot_encode)"
   ]
  },
  {
   "cell_type": "markdown",
   "metadata": {},
   "source": [
    "# Check Point\n",
    "This is your first checkpoint.  If you ever decide to come back to this notebook or have to restart the notebook, you can start from here.  The preprocessed data has been saved to disk."
   ]
  },
  {
   "cell_type": "code",
   "execution_count": 6,
   "metadata": {
    "collapsed": true
   },
   "outputs": [],
   "source": [
    "\"\"\"\n",
    "DON'T MODIFY ANYTHING IN THIS CELL\n",
    "\"\"\"\n",
    "import pickle\n",
    "import problem_unittests as tests\n",
    "import helper\n",
    "\n",
    "# Load the Preprocessed Validation data\n",
    "valid_features, valid_labels = pickle.load(open('preprocess_validation.p', mode='rb'))"
   ]
  },
  {
   "cell_type": "markdown",
   "metadata": {},
   "source": [
    "## Build the network\n",
    "For the neural network, you'll build each layer into a function.  Most of the code you've seen has been outside of functions. To test your code more thoroughly, we require that you put each layer in a function.  This allows us to give you better feedback and test for simple mistakes using our unittests before you submit your project.\n",
    "\n",
    ">**Note:** If you're finding it hard to dedicate enough time for this course each week, we've provided a small shortcut to this part of the project. In the next couple of problems, you'll have the option to use classes from the [TensorFlow Layers](https://www.tensorflow.org/api_docs/python/tf/layers) or [TensorFlow Layers (contrib)](https://www.tensorflow.org/api_guides/python/contrib.layers) packages to build each layer, except the layers you build in the \"Convolutional and Max Pooling Layer\" section.  TF Layers is similar to Keras's and TFLearn's abstraction to layers, so it's easy to pickup.\n",
    "\n",
    ">However, if you would like to get the most out of this course, try to solve all the problems _without_ using anything from the TF Layers packages. You **can** still use classes from other packages that happen to have the same name as ones you find in TF Layers! For example, instead of using the TF Layers version of the `conv2d` class, [tf.layers.conv2d](https://www.tensorflow.org/api_docs/python/tf/layers/conv2d), you would want to use the TF Neural Network version of `conv2d`, [tf.nn.conv2d](https://www.tensorflow.org/api_docs/python/tf/nn/conv2d). \n",
    "\n",
    "Let's begin!\n",
    "\n",
    "### Input\n",
    "The neural network needs to read the image data, one-hot encoded labels, and dropout keep probability. Implement the following functions\n",
    "* Implement `neural_net_image_input`\n",
    " * Return a [TF Placeholder](https://www.tensorflow.org/api_docs/python/tf/placeholder)\n",
    " * Set the shape using `image_shape` with batch size set to `None`.\n",
    " * Name the TensorFlow placeholder \"x\" using the TensorFlow `name` parameter in the [TF Placeholder](https://www.tensorflow.org/api_docs/python/tf/placeholder).\n",
    "* Implement `neural_net_label_input`\n",
    " * Return a [TF Placeholder](https://www.tensorflow.org/api_docs/python/tf/placeholder)\n",
    " * Set the shape using `n_classes` with batch size set to `None`.\n",
    " * Name the TensorFlow placeholder \"y\" using the TensorFlow `name` parameter in the [TF Placeholder](https://www.tensorflow.org/api_docs/python/tf/placeholder).\n",
    "* Implement `neural_net_keep_prob_input`\n",
    " * Return a [TF Placeholder](https://www.tensorflow.org/api_docs/python/tf/placeholder) for dropout keep probability.\n",
    " * Name the TensorFlow placeholder \"keep_prob\" using the TensorFlow `name` parameter in the [TF Placeholder](https://www.tensorflow.org/api_docs/python/tf/placeholder).\n",
    "\n",
    "These names will be used at the end of the project to load your saved model.\n",
    "\n",
    "Note: `None` for shapes in TensorFlow allow for a dynamic size."
   ]
  },
  {
   "cell_type": "code",
   "execution_count": 7,
   "metadata": {},
   "outputs": [
    {
     "name": "stdout",
     "output_type": "stream",
     "text": [
      "Image Input Tests Passed.\n",
      "Label Input Tests Passed.\n",
      "Keep Prob Tests Passed.\n"
     ]
    }
   ],
   "source": [
    "import tensorflow as tf\n",
    "\n",
    "def neural_net_image_input(image_shape):\n",
    "    \"\"\"\n",
    "    Return a Tensor for a batch of image input\n",
    "    : image_shape: Shape of the images\n",
    "    : return: Tensor for image input.\n",
    "    \"\"\"\n",
    "    # TODO: Implement Function\n",
    "    return tf.placeholder(tf.float32, [None, image_shape[0], image_shape[1], image_shape[2]], name=\"x\")\n",
    "\n",
    "\n",
    "def neural_net_label_input(n_classes):\n",
    "    \"\"\"\n",
    "    Return a Tensor for a batch of label input\n",
    "    : n_classes: Number of classes\n",
    "    : return: Tensor for label input.\n",
    "    \"\"\"\n",
    "    # TODO: Implement Function\n",
    "    return tf.placeholder(tf.float32, [None, n_classes], name=\"y\")\n",
    "\n",
    "\n",
    "def neural_net_keep_prob_input():\n",
    "    \"\"\"\n",
    "    Return a Tensor for keep probability\n",
    "    : return: Tensor for keep probability.\n",
    "    \"\"\"\n",
    "    # TODO: Implement Function\n",
    "    return tf.placeholder(tf.float32, name=\"keep_prob\")\n",
    "\n",
    "\n",
    "\"\"\"\n",
    "DON'T MODIFY ANYTHING IN THIS CELL THAT IS BELOW THIS LINE\n",
    "\"\"\"\n",
    "tf.reset_default_graph()\n",
    "tests.test_nn_image_inputs(neural_net_image_input)\n",
    "tests.test_nn_label_inputs(neural_net_label_input)\n",
    "tests.test_nn_keep_prob_inputs(neural_net_keep_prob_input)"
   ]
  },
  {
   "cell_type": "markdown",
   "metadata": {},
   "source": [
    "### Convolution and Max Pooling Layer\n",
    "Convolution layers have a lot of success with images. For this code cell, you should implement the function `conv2d_maxpool` to apply convolution then max pooling:\n",
    "* Create the weight and bias using `conv_ksize`, `conv_num_outputs` and the shape of `x_tensor`.\n",
    "* Apply a convolution to `x_tensor` using weight and `conv_strides`.\n",
    " * We recommend you use same padding, but you're welcome to use any padding.\n",
    "* Add bias\n",
    "* Add a nonlinear activation to the convolution.\n",
    "* Apply Max Pooling using `pool_ksize` and `pool_strides`.\n",
    " * We recommend you use same padding, but you're welcome to use any padding.\n",
    "\n",
    "**Note:** You **can't** use [TensorFlow Layers](https://www.tensorflow.org/api_docs/python/tf/layers) or [TensorFlow Layers (contrib)](https://www.tensorflow.org/api_guides/python/contrib.layers) for **this** layer, but you can still use TensorFlow's [Neural Network](https://www.tensorflow.org/api_docs/python/tf/nn) package. You may still use the shortcut option for all the **other** layers."
   ]
  },
  {
   "cell_type": "code",
   "execution_count": 8,
   "metadata": {},
   "outputs": [
    {
     "name": "stdout",
     "output_type": "stream",
     "text": [
      "Tests Passed\n"
     ]
    }
   ],
   "source": [
    "def conv2d_maxpool(x_tensor, conv_num_outputs, conv_ksize, conv_strides, pool_ksize, pool_strides):\n",
    "    \"\"\"\n",
    "    Apply convolution then max pooling to x_tensor\n",
    "    :param x_tensor: TensorFlow Tensor\n",
    "    :param conv_num_outputs: Number of outputs for the convolutional layer\n",
    "    :param conv_ksize: kernal size 2-D Tuple for the convolutional layer\n",
    "    :param conv_strides: Stride 2-D Tuple for convolution\n",
    "    :param pool_ksize: kernal size 2-D Tuple for pool\n",
    "    :param pool_strides: Stride 2-D Tuple for pool\n",
    "    : return: A tensor that represents convolution and max pooling of x_tensor\n",
    "    \"\"\"\n",
    "    # TODO: Implement Function\n",
    "    batch_size = x_tensor.shape[3].value\n",
    "    F_W = tf.Variable(tf.truncated_normal([conv_ksize[0], conv_ksize[1], batch_size, conv_num_outputs]))\n",
    "    F_b = tf.Variable(tf.zeros(conv_num_outputs))\n",
    "    conv1_strides = [1, conv_strides[0], conv_strides[1], 1]\n",
    "    conv1 = tf.nn.conv2d(x_tensor, F_W, conv1_strides, padding=\"SAME\") + F_b\n",
    "    \n",
    "    relu1 = tf.nn.relu(conv1)\n",
    "    \n",
    "    k_size = [1, pool_ksize[0], pool_ksize[1], 1]\n",
    "    pool1_strids = [1, pool_strides[0], pool_strides[1], 1]\n",
    "    pool1 = tf.nn.max_pool(relu1, k_size, pool1_strids, padding=\"VALID\")\n",
    "    return pool1\n",
    "\n",
    "\n",
    "\"\"\"\n",
    "DON'T MODIFY ANYTHING IN THIS CELL THAT IS BELOW THIS LINE\n",
    "\"\"\"\n",
    "tests.test_con_pool(conv2d_maxpool)"
   ]
  },
  {
   "cell_type": "markdown",
   "metadata": {},
   "source": [
    "### Flatten Layer\n",
    "Implement the `flatten` function to change the dimension of `x_tensor` from a 4-D tensor to a 2-D tensor.  The output should be the shape (*Batch Size*, *Flattened Image Size*). Shortcut option: you can use classes from the [TensorFlow Layers](https://www.tensorflow.org/api_docs/python/tf/layers) or [TensorFlow Layers (contrib)](https://www.tensorflow.org/api_guides/python/contrib.layers) packages for this layer. For more of a challenge, only use other TensorFlow packages."
   ]
  },
  {
   "cell_type": "code",
   "execution_count": 9,
   "metadata": {},
   "outputs": [
    {
     "name": "stdout",
     "output_type": "stream",
     "text": [
      "Tests Passed\n"
     ]
    }
   ],
   "source": [
    "def flatten(x_tensor):\n",
    "    \"\"\"\n",
    "    Flatten x_tensor to (Batch Size, Flattened Image Size)\n",
    "    : x_tensor: A tensor of size (Batch Size, ...), where ... are the image dimensions.\n",
    "    : return: A tensor of size (Batch Size, Flattened Image Size).\n",
    "    \"\"\"\n",
    "    # TODO: Implement Function\n",
    "    tensor_shape = x_tensor.get_shape().as_list()\n",
    "    reshaped_img_size = tensor_shape[1] * tensor_shape[2] * tensor_shape[3]\n",
    "    \n",
    "    return tf.reshape(x_tensor, [-1, reshaped_img_size])\n",
    "\n",
    "\n",
    "\"\"\"\n",
    "DON'T MODIFY ANYTHING IN THIS CELL THAT IS BELOW THIS LINE\n",
    "\"\"\"\n",
    "tests.test_flatten(flatten)"
   ]
  },
  {
   "cell_type": "markdown",
   "metadata": {},
   "source": [
    "### Fully-Connected Layer\n",
    "Implement the `fully_conn` function to apply a fully connected layer to `x_tensor` with the shape (*Batch Size*, *num_outputs*). Shortcut option: you can use classes from the [TensorFlow Layers](https://www.tensorflow.org/api_docs/python/tf/layers) or [TensorFlow Layers (contrib)](https://www.tensorflow.org/api_guides/python/contrib.layers) packages for this layer. For more of a challenge, only use other TensorFlow packages."
   ]
  },
  {
   "cell_type": "code",
   "execution_count": 10,
   "metadata": {},
   "outputs": [
    {
     "name": "stdout",
     "output_type": "stream",
     "text": [
      "Tests Passed\n"
     ]
    }
   ],
   "source": [
    "def fully_conn(x_tensor, num_outputs):\n",
    "    \"\"\"\n",
    "    Apply a fully connected layer to x_tensor using weight and bias\n",
    "    : x_tensor: A 2-D tensor where the first dimension is batch size.\n",
    "    : num_outputs: The number of output that the new tensor should be.\n",
    "    : return: A 2-D tensor where the second dimension is num_outputs.\n",
    "    \"\"\"\n",
    "    # TODO: Implement Function\n",
    "    weights = tf.Variable(tf.truncated_normal((x_tensor.get_shape().as_list()[1], num_outputs)))\n",
    "    bias = tf.Variable(tf.zeros(num_outputs))\n",
    "    return tf.add(tf.matmul(x_tensor, weights), bias)\n",
    "    \n",
    "\n",
    "\"\"\"\n",
    "DON'T MODIFY ANYTHING IN THIS CELL THAT IS BELOW THIS LINE\n",
    "\"\"\"\n",
    "tests.test_fully_conn(fully_conn)"
   ]
  },
  {
   "cell_type": "markdown",
   "metadata": {},
   "source": [
    "### Output Layer\n",
    "Implement the `output` function to apply a fully connected layer to `x_tensor` with the shape (*Batch Size*, *num_outputs*). Shortcut option: you can use classes from the [TensorFlow Layers](https://www.tensorflow.org/api_docs/python/tf/layers) or [TensorFlow Layers (contrib)](https://www.tensorflow.org/api_guides/python/contrib.layers) packages for this layer. For more of a challenge, only use other TensorFlow packages.\n",
    "\n",
    "**Note:** Activation, softmax, or cross entropy should **not** be applied to this."
   ]
  },
  {
   "cell_type": "code",
   "execution_count": 11,
   "metadata": {},
   "outputs": [
    {
     "name": "stdout",
     "output_type": "stream",
     "text": [
      "Tests Passed\n"
     ]
    }
   ],
   "source": [
    "def output(x_tensor, num_outputs):\n",
    "    \"\"\"\n",
    "    Apply a output layer to x_tensor using weight and bias\n",
    "    : x_tensor: A 2-D tensor where the first dimension is batch size.\n",
    "    : num_outputs: The number of output that the new tensor should be.\n",
    "    : return: A 2-D tensor where the second dimension is num_outputs.\n",
    "    \"\"\"\n",
    "    # TODO: Implement Function\n",
    "    weights = tf.Variable(tf.truncated_normal((x_tensor.get_shape().as_list()[1], num_outputs)))\n",
    "    bias = tf.Variable(tf.zeros(num_outputs))\n",
    "    return tf.add(tf.matmul(x_tensor, weights), bias)\n",
    "\n",
    "\n",
    "\"\"\"\n",
    "DON'T MODIFY ANYTHING IN THIS CELL THAT IS BELOW THIS LINE\n",
    "\"\"\"\n",
    "tests.test_output(output)"
   ]
  },
  {
   "cell_type": "markdown",
   "metadata": {},
   "source": [
    "### Create Convolutional Model\n",
    "Implement the function `conv_net` to create a convolutional neural network model. The function takes in a batch of images, `x`, and outputs logits.  Use the layers you created above to create this model:\n",
    "\n",
    "* Apply 1, 2, or 3 Convolution and Max Pool layers\n",
    "* Apply a Flatten Layer\n",
    "* Apply 1, 2, or 3 Fully Connected Layers\n",
    "* Apply an Output Layer\n",
    "* Return the output\n",
    "* Apply [TensorFlow's Dropout](https://www.tensorflow.org/api_docs/python/tf/nn/dropout) to one or more layers in the model using `keep_prob`. "
   ]
  },
  {
   "cell_type": "code",
   "execution_count": 34,
   "metadata": {},
   "outputs": [
    {
     "name": "stdout",
     "output_type": "stream",
     "text": [
      "Neural Network Built!\n"
     ]
    }
   ],
   "source": [
    "def conv_net(x, keep_prob):\n",
    "    \"\"\"\n",
    "    Create a convolutional neural network model\n",
    "    : x: Placeholder tensor that holds image data.\n",
    "    : keep_prob: Placeholder tensor that hold dropout keep probability.\n",
    "    : return: Tensor that represents logits\n",
    "    \"\"\"\n",
    "    # TODO: Apply 1, 2, or 3 Convolution and Max Pool layers\n",
    "    #    Play around with different number of outputs, kernel size and stride\n",
    "    # Function Definition from Above:\n",
    "    #    conv2d_maxpool(x_tensor, conv_num_outputs, conv_ksize, conv_strides, pool_ksize, pool_strides)\n",
    "    conv1 = conv2d_maxpool(x, 64, (3,3), (1, 1), (2, 2), (2, 2))\n",
    "    conv2 = conv2d_maxpool(conv1, 256, (3,3), (1, 1), (2, 2), (2, 2))\n",
    "    conv3 = conv2d_maxpool(conv2, 1024, (3,3), (1, 1), (2, 2), (2, 2))\n",
    "    \n",
    "    # TODO: Apply a Flatten Layer\n",
    "    # Function Definition from Above:\n",
    "    #   flatten(x_tensor)\n",
    "    flat1 = flatten(conv2)\n",
    "    \n",
    "    # TODO: Apply 1, 2, or 3 Fully Connected Layers\n",
    "    #    Play around with different number of outputs\n",
    "    # Function Definition from Above:\n",
    "    #   fully_conn(x_tensor, num_outputs)\n",
    "    full1 = fully_conn(flat1, 2048)\n",
    "    drop1 = tf.nn.dropout(full1, keep_prob)\n",
    "    full2 = fully_conn(full1, 512)\n",
    "    drop2 = tf.nn.dropout(full2, keep_prob)\n",
    "    \n",
    "    # TODO: Apply an Output Layer\n",
    "    #    Set this to the number of classes\n",
    "    # Function Definition from Above:\n",
    "    #   output(x_tensor, num_outputs)\n",
    "    \n",
    "    \n",
    "    # TODO: return output\n",
    "    return output(drop2, 10)\n",
    "\n",
    "\n",
    "\"\"\"\n",
    "DON'T MODIFY ANYTHING IN THIS CELL THAT IS BELOW THIS LINE\n",
    "\"\"\"\n",
    "\n",
    "##############################\n",
    "## Build the Neural Network ##\n",
    "##############################\n",
    "\n",
    "# Remove previous weights, bias, inputs, etc..\n",
    "tf.reset_default_graph()\n",
    "\n",
    "# Inputs\n",
    "x = neural_net_image_input((32, 32, 3))\n",
    "y = neural_net_label_input(10)\n",
    "keep_prob = neural_net_keep_prob_input()\n",
    "\n",
    "# Model\n",
    "logits = conv_net(x, keep_prob)\n",
    "\n",
    "# Name logits Tensor, so that is can be loaded from disk after training\n",
    "logits = tf.identity(logits, name='logits')\n",
    "\n",
    "# Loss and Optimizer\n",
    "cost = tf.reduce_mean(tf.nn.softmax_cross_entropy_with_logits(logits=logits, labels=y))\n",
    "optimizer = tf.train.AdamOptimizer().minimize(cost)\n",
    "\n",
    "# Accuracy\n",
    "correct_pred = tf.equal(tf.argmax(logits, 1), tf.argmax(y, 1))\n",
    "accuracy = tf.reduce_mean(tf.cast(correct_pred, tf.float32), name='accuracy')\n",
    "\n",
    "tests.test_conv_net(conv_net)"
   ]
  },
  {
   "cell_type": "markdown",
   "metadata": {},
   "source": [
    "## Train the Neural Network\n",
    "### Single Optimization\n",
    "Implement the function `train_neural_network` to do a single optimization.  The optimization should use `optimizer` to optimize in `session` with a `feed_dict` of the following:\n",
    "* `x` for image input\n",
    "* `y` for labels\n",
    "* `keep_prob` for keep probability for dropout\n",
    "\n",
    "This function will be called for each batch, so `tf.global_variables_initializer()` has already been called.\n",
    "\n",
    "Note: Nothing needs to be returned. This function is only optimizing the neural network."
   ]
  },
  {
   "cell_type": "code",
   "execution_count": 35,
   "metadata": {},
   "outputs": [
    {
     "name": "stdout",
     "output_type": "stream",
     "text": [
      "Tests Passed\n"
     ]
    }
   ],
   "source": [
    "init = tf.global_variables_initializer()\n",
    "def train_neural_network(session, optimizer, keep_probability, feature_batch, label_batch):\n",
    "    \"\"\"\n",
    "    Optimize the session on a batch of images and labels\n",
    "    : session: Current TensorFlow session\n",
    "    : optimizer: TensorFlow optimizer function\n",
    "    : keep_probability: keep probability\n",
    "    : feature_batch: Batch of Numpy image data\n",
    "    : label_batch: Batch of Numpy label data\n",
    "    \"\"\"\n",
    "    # TODO: Implement Function\n",
    "\n",
    "    session.run(optimizer, feed_dict={x:feature_batch, y:label_batch, keep_prob:keep_probability})\n",
    "\n",
    "\n",
    "\"\"\"\n",
    "DON'T MODIFY ANYTHING IN THIS CELL THAT IS BELOW THIS LINE\n",
    "\"\"\"\n",
    "tests.test_train_nn(train_neural_network)"
   ]
  },
  {
   "cell_type": "markdown",
   "metadata": {},
   "source": [
    "### Show Stats\n",
    "Implement the function `print_stats` to print loss and validation accuracy.  Use the global variables `valid_features` and `valid_labels` to calculate validation accuracy.  Use a keep probability of `1.0` to calculate the loss and validation accuracy."
   ]
  },
  {
   "cell_type": "code",
   "execution_count": 36,
   "metadata": {
    "collapsed": true
   },
   "outputs": [],
   "source": [
    "def print_stats(session, feature_batch, label_batch, cost, accuracy):\n",
    "    \"\"\"\n",
    "    Print information about loss and validation accuracy\n",
    "    : session: Current TensorFlow session\n",
    "    : feature_batch: Batch of Numpy image data\n",
    "    : label_batch: Batch of Numpy label data\n",
    "    : cost: TensorFlow cost function\n",
    "    : accuracy: TensorFlow accuracy function\n",
    "    \"\"\"\n",
    "    # TODO: Implement Function\n",
    "    loss = sess.run(cost, feed_dict={x:feature_batch, y:label_batch, keep_prob:1.})\n",
    "    valid_acc = sess.run(accuracy, feed_dict={x:valid_features, y:valid_labels, keep_prob:1.})\n",
    "    print('Loss: {:>10.4f} Validation Accuracy: {:.6f}'.format(\n",
    "                loss,\n",
    "                valid_acc))"
   ]
  },
  {
   "cell_type": "markdown",
   "metadata": {},
   "source": [
    "### Hyperparameters\n",
    "Tune the following parameters:\n",
    "* Set `epochs` to the number of iterations until the network stops learning or start overfitting\n",
    "* Set `batch_size` to the highest number that your machine has memory for.  Most people set them to common sizes of memory:\n",
    " * 64\n",
    " * 128\n",
    " * 256\n",
    " * ...\n",
    "* Set `keep_probability` to the probability of keeping a node using dropout"
   ]
  },
  {
   "cell_type": "code",
   "execution_count": 41,
   "metadata": {
    "collapsed": true
   },
   "outputs": [],
   "source": [
    "# TODO: Tune Parameters\n",
    "epochs = 50\n",
    "batch_size = 2048\n",
    "keep_probability = 0.5"
   ]
  },
  {
   "cell_type": "markdown",
   "metadata": {},
   "source": [
    "### Train on a Single CIFAR-10 Batch\n",
    "Instead of training the neural network on all the CIFAR-10 batches of data, let's use a single batch. This should save time while you iterate on the model to get a better accuracy.  Once the final validation accuracy is 50% or greater, run the model on all the data in the next section."
   ]
  },
  {
   "cell_type": "code",
   "execution_count": 42,
   "metadata": {},
   "outputs": [
    {
     "name": "stdout",
     "output_type": "stream",
     "text": [
      "Checking the Training on a Single Batch...\n",
      "Epoch  1, CIFAR-10 Batch 1:  Loss: 2076025.8750 Validation Accuracy: 0.120600\n",
      "Epoch  2, CIFAR-10 Batch 1:  Loss: 1223836.3750 Validation Accuracy: 0.173000\n",
      "Epoch  3, CIFAR-10 Batch 1:  Loss: 1065154.5000 Validation Accuracy: 0.238200\n",
      "Epoch  4, CIFAR-10 Batch 1:  Loss: 835732.8125 Validation Accuracy: 0.253800\n",
      "Epoch  5, CIFAR-10 Batch 1:  Loss: 693465.8125 Validation Accuracy: 0.307000\n",
      "Epoch  6, CIFAR-10 Batch 1:  Loss: 550135.9375 Validation Accuracy: 0.308200\n",
      "Epoch  7, CIFAR-10 Batch 1:  Loss: 498212.6875 Validation Accuracy: 0.336800\n",
      "Epoch  8, CIFAR-10 Batch 1:  Loss: 429470.2500 Validation Accuracy: 0.356800\n",
      "Epoch  9, CIFAR-10 Batch 1:  Loss: 422044.5312 Validation Accuracy: 0.358000\n",
      "Epoch 10, CIFAR-10 Batch 1:  Loss: 361745.7500 Validation Accuracy: 0.365800\n",
      "Epoch 11, CIFAR-10 Batch 1:  Loss: 324018.7188 Validation Accuracy: 0.384800\n",
      "Epoch 12, CIFAR-10 Batch 1:  Loss: 299606.3750 Validation Accuracy: 0.390400\n",
      "Epoch 13, CIFAR-10 Batch 1:  Loss: 269488.9375 Validation Accuracy: 0.399200\n",
      "Epoch 14, CIFAR-10 Batch 1:  Loss: 259880.8281 Validation Accuracy: 0.411200\n",
      "Epoch 15, CIFAR-10 Batch 1:  Loss: 256400.7344 Validation Accuracy: 0.406400\n",
      "Epoch 16, CIFAR-10 Batch 1:  Loss: 224600.1250 Validation Accuracy: 0.427400\n",
      "Epoch 17, CIFAR-10 Batch 1:  Loss: 207271.3750 Validation Accuracy: 0.430000\n",
      "Epoch 18, CIFAR-10 Batch 1:  Loss: 204245.4375 Validation Accuracy: 0.422200\n",
      "Epoch 19, CIFAR-10 Batch 1:  Loss: 209573.5938 Validation Accuracy: 0.428200\n",
      "Epoch 20, CIFAR-10 Batch 1:  Loss: 212968.2656 Validation Accuracy: 0.428000\n",
      "Epoch 21, CIFAR-10 Batch 1:  Loss: 179607.0000 Validation Accuracy: 0.445600\n",
      "Epoch 22, CIFAR-10 Batch 1:  Loss: 152850.3125 Validation Accuracy: 0.460600\n",
      "Epoch 23, CIFAR-10 Batch 1:  Loss: 143951.7812 Validation Accuracy: 0.461200\n",
      "Epoch 24, CIFAR-10 Batch 1:  Loss: 132396.9688 Validation Accuracy: 0.466800\n",
      "Epoch 25, CIFAR-10 Batch 1:  Loss: 127241.9844 Validation Accuracy: 0.465600\n",
      "Epoch 26, CIFAR-10 Batch 1:  Loss: 130181.6797 Validation Accuracy: 0.473200\n",
      "Epoch 27, CIFAR-10 Batch 1:  Loss: 124511.2188 Validation Accuracy: 0.467400\n",
      "Epoch 28, CIFAR-10 Batch 1:  Loss: 132793.0781 Validation Accuracy: 0.467000\n",
      "Epoch 29, CIFAR-10 Batch 1:  Loss: 106793.0156 Validation Accuracy: 0.485400\n",
      "Epoch 30, CIFAR-10 Batch 1:  Loss: 110666.9297 Validation Accuracy: 0.480600\n",
      "Epoch 31, CIFAR-10 Batch 1:  Loss: 95424.2734 Validation Accuracy: 0.489600\n",
      "Epoch 32, CIFAR-10 Batch 1:  Loss: 93228.6406 Validation Accuracy: 0.488600\n",
      "Epoch 33, CIFAR-10 Batch 1:  Loss: 86517.9609 Validation Accuracy: 0.491000\n",
      "Epoch 34, CIFAR-10 Batch 1:  Loss: 98135.7578 Validation Accuracy: 0.476000\n",
      "Epoch 35, CIFAR-10 Batch 1:  Loss: 90465.0781 Validation Accuracy: 0.493200\n",
      "Epoch 36, CIFAR-10 Batch 1:  Loss: 88080.7578 Validation Accuracy: 0.497200\n",
      "Epoch 37, CIFAR-10 Batch 1:  Loss: 83041.8750 Validation Accuracy: 0.494200\n",
      "Epoch 38, CIFAR-10 Batch 1:  Loss: 78763.2812 Validation Accuracy: 0.487800\n",
      "Epoch 39, CIFAR-10 Batch 1:  Loss: 66200.9453 Validation Accuracy: 0.505000\n",
      "Epoch 40, CIFAR-10 Batch 1:  Loss: 63090.8945 Validation Accuracy: 0.506000\n",
      "Epoch 41, CIFAR-10 Batch 1:  Loss: 60950.1641 Validation Accuracy: 0.511400\n",
      "Epoch 42, CIFAR-10 Batch 1:  Loss: 62974.1875 Validation Accuracy: 0.513800\n",
      "Epoch 43, CIFAR-10 Batch 1:  Loss: 60980.4336 Validation Accuracy: 0.508400\n",
      "Epoch 44, CIFAR-10 Batch 1:  Loss: 51576.5234 Validation Accuracy: 0.512600\n",
      "Epoch 45, CIFAR-10 Batch 1:  Loss: 51941.6328 Validation Accuracy: 0.511400\n",
      "Epoch 46, CIFAR-10 Batch 1:  Loss: 46594.5312 Validation Accuracy: 0.516400\n",
      "Epoch 47, CIFAR-10 Batch 1:  Loss: 45347.3047 Validation Accuracy: 0.527000\n",
      "Epoch 48, CIFAR-10 Batch 1:  Loss: 44014.0469 Validation Accuracy: 0.527000\n",
      "Epoch 49, CIFAR-10 Batch 1:  Loss: 40749.9922 Validation Accuracy: 0.528400\n",
      "Epoch 50, CIFAR-10 Batch 1:  Loss: 38884.3008 Validation Accuracy: 0.524000\n"
     ]
    }
   ],
   "source": [
    "\"\"\"\n",
    "DON'T MODIFY ANYTHING IN THIS CELL\n",
    "\"\"\"\n",
    "print('Checking the Training on a Single Batch...')\n",
    "with tf.Session() as sess:\n",
    "    # Initializing the variables\n",
    "    sess.run(tf.global_variables_initializer())\n",
    "    \n",
    "    # Training cycle\n",
    "    for epoch in range(epochs):\n",
    "        batch_i = 1\n",
    "        for batch_features, batch_labels in helper.load_preprocess_training_batch(batch_i, batch_size):\n",
    "            train_neural_network(sess, optimizer, keep_probability, batch_features, batch_labels)\n",
    "        print('Epoch {:>2}, CIFAR-10 Batch {}:  '.format(epoch + 1, batch_i), end='')\n",
    "        print_stats(sess, batch_features, batch_labels, cost, accuracy)"
   ]
  },
  {
   "cell_type": "markdown",
   "metadata": {},
   "source": [
    "### Fully Train the Model\n",
    "Now that you got a good accuracy with a single CIFAR-10 batch, try it with all five batches."
   ]
  },
  {
   "cell_type": "code",
   "execution_count": 43,
   "metadata": {},
   "outputs": [
    {
     "name": "stdout",
     "output_type": "stream",
     "text": [
      "Training...\n",
      "Epoch  1, CIFAR-10 Batch 1:  Loss: 1995013.2500 Validation Accuracy: 0.139600\n",
      "Epoch  1, CIFAR-10 Batch 2:  Loss: 1588405.2500 Validation Accuracy: 0.138600\n",
      "Epoch  1, CIFAR-10 Batch 3:  Loss: 1196066.5000 Validation Accuracy: 0.250400\n",
      "Epoch  1, CIFAR-10 Batch 4:  Loss: 1023951.1250 Validation Accuracy: 0.219600\n",
      "Epoch  1, CIFAR-10 Batch 5:  Loss: 794384.3750 Validation Accuracy: 0.293000\n",
      "Epoch  2, CIFAR-10 Batch 1:  Loss: 721566.3750 Validation Accuracy: 0.291000\n",
      "Epoch  2, CIFAR-10 Batch 2:  Loss: 562666.5000 Validation Accuracy: 0.331400\n",
      "Epoch  2, CIFAR-10 Batch 3:  Loss: 471218.6562 Validation Accuracy: 0.330400\n",
      "Epoch  2, CIFAR-10 Batch 4:  Loss: 440692.9375 Validation Accuracy: 0.353000\n",
      "Epoch  2, CIFAR-10 Batch 5:  Loss: 444097.3125 Validation Accuracy: 0.361400\n",
      "Epoch  3, CIFAR-10 Batch 1:  Loss: 395752.0625 Validation Accuracy: 0.376600\n",
      "Epoch  3, CIFAR-10 Batch 2:  Loss: 345233.8125 Validation Accuracy: 0.391400\n",
      "Epoch  3, CIFAR-10 Batch 3:  Loss: 333216.3438 Validation Accuracy: 0.391800\n",
      "Epoch  3, CIFAR-10 Batch 4:  Loss: 328160.4375 Validation Accuracy: 0.413400\n",
      "Epoch  3, CIFAR-10 Batch 5:  Loss: 329894.8750 Validation Accuracy: 0.404600\n",
      "Epoch  4, CIFAR-10 Batch 1:  Loss: 299485.6250 Validation Accuracy: 0.426800\n",
      "Epoch  4, CIFAR-10 Batch 2:  Loss: 265293.5625 Validation Accuracy: 0.426000\n",
      "Epoch  4, CIFAR-10 Batch 3:  Loss: 267632.0938 Validation Accuracy: 0.422800\n",
      "Epoch  4, CIFAR-10 Batch 4:  Loss: 272254.2500 Validation Accuracy: 0.439800\n",
      "Epoch  4, CIFAR-10 Batch 5:  Loss: 268902.3438 Validation Accuracy: 0.438000\n",
      "Epoch  5, CIFAR-10 Batch 1:  Loss: 258807.5469 Validation Accuracy: 0.447800\n",
      "Epoch  5, CIFAR-10 Batch 2:  Loss: 231468.4844 Validation Accuracy: 0.448600\n",
      "Epoch  5, CIFAR-10 Batch 3:  Loss: 240249.1719 Validation Accuracy: 0.445000\n",
      "Epoch  5, CIFAR-10 Batch 4:  Loss: 240173.5000 Validation Accuracy: 0.458400\n",
      "Epoch  5, CIFAR-10 Batch 5:  Loss: 225426.6406 Validation Accuracy: 0.466200\n",
      "Epoch  6, CIFAR-10 Batch 1:  Loss: 215200.0156 Validation Accuracy: 0.469800\n",
      "Epoch  6, CIFAR-10 Batch 2:  Loss: 198572.8125 Validation Accuracy: 0.470000\n",
      "Epoch  6, CIFAR-10 Batch 3:  Loss: 192377.0156 Validation Accuracy: 0.475600\n",
      "Epoch  6, CIFAR-10 Batch 4:  Loss: 207383.8281 Validation Accuracy: 0.478800\n",
      "Epoch  6, CIFAR-10 Batch 5:  Loss: 211189.9375 Validation Accuracy: 0.469000\n",
      "Epoch  7, CIFAR-10 Batch 1:  Loss: 183475.9219 Validation Accuracy: 0.493600\n",
      "Epoch  7, CIFAR-10 Batch 2:  Loss: 169425.1875 Validation Accuracy: 0.486200\n",
      "Epoch  7, CIFAR-10 Batch 3:  Loss: 169760.2500 Validation Accuracy: 0.492400\n",
      "Epoch  7, CIFAR-10 Batch 4:  Loss: 187363.7500 Validation Accuracy: 0.493000\n",
      "Epoch  7, CIFAR-10 Batch 5:  Loss: 178457.8906 Validation Accuracy: 0.491000\n",
      "Epoch  8, CIFAR-10 Batch 1:  Loss: 165646.7344 Validation Accuracy: 0.502800\n",
      "Epoch  8, CIFAR-10 Batch 2:  Loss: 154215.4375 Validation Accuracy: 0.493000\n",
      "Epoch  8, CIFAR-10 Batch 3:  Loss: 147488.7969 Validation Accuracy: 0.501400\n",
      "Epoch  8, CIFAR-10 Batch 4:  Loss: 170433.9219 Validation Accuracy: 0.509000\n",
      "Epoch  8, CIFAR-10 Batch 5:  Loss: 156832.9062 Validation Accuracy: 0.505000\n",
      "Epoch  9, CIFAR-10 Batch 1:  Loss: 159964.2344 Validation Accuracy: 0.513200\n",
      "Epoch  9, CIFAR-10 Batch 2:  Loss: 145166.0781 Validation Accuracy: 0.514200\n",
      "Epoch  9, CIFAR-10 Batch 3:  Loss: 131719.1875 Validation Accuracy: 0.517200\n",
      "Epoch  9, CIFAR-10 Batch 4:  Loss: 147049.7500 Validation Accuracy: 0.523200\n",
      "Epoch  9, CIFAR-10 Batch 5:  Loss: 135601.3281 Validation Accuracy: 0.521200\n",
      "Epoch 10, CIFAR-10 Batch 1:  Loss: 133975.5312 Validation Accuracy: 0.523000\n",
      "Epoch 10, CIFAR-10 Batch 2:  Loss: 126924.2734 Validation Accuracy: 0.521000\n",
      "Epoch 10, CIFAR-10 Batch 3:  Loss: 119322.1484 Validation Accuracy: 0.528000\n",
      "Epoch 10, CIFAR-10 Batch 4:  Loss: 146102.7188 Validation Accuracy: 0.524000\n",
      "Epoch 10, CIFAR-10 Batch 5:  Loss: 127447.2734 Validation Accuracy: 0.529800\n",
      "Epoch 11, CIFAR-10 Batch 1:  Loss: 131827.3281 Validation Accuracy: 0.516000\n",
      "Epoch 11, CIFAR-10 Batch 2:  Loss: 122201.4219 Validation Accuracy: 0.517600\n",
      "Epoch 11, CIFAR-10 Batch 3:  Loss: 120492.2422 Validation Accuracy: 0.529200\n",
      "Epoch 11, CIFAR-10 Batch 4:  Loss: 132258.2031 Validation Accuracy: 0.528800\n",
      "Epoch 11, CIFAR-10 Batch 5:  Loss: 118179.5781 Validation Accuracy: 0.539600\n",
      "Epoch 12, CIFAR-10 Batch 1:  Loss: 114437.3281 Validation Accuracy: 0.543600\n",
      "Epoch 12, CIFAR-10 Batch 2:  Loss: 112345.5312 Validation Accuracy: 0.532800\n",
      "Epoch 12, CIFAR-10 Batch 3:  Loss: 104249.8750 Validation Accuracy: 0.533200\n",
      "Epoch 12, CIFAR-10 Batch 4:  Loss: 117805.2891 Validation Accuracy: 0.541600\n",
      "Epoch 12, CIFAR-10 Batch 5:  Loss: 103906.5938 Validation Accuracy: 0.545000\n",
      "Epoch 13, CIFAR-10 Batch 1:  Loss: 106437.5000 Validation Accuracy: 0.548600\n",
      "Epoch 13, CIFAR-10 Batch 2:  Loss: 97299.5625 Validation Accuracy: 0.545200\n",
      "Epoch 13, CIFAR-10 Batch 3:  Loss: 92121.4609 Validation Accuracy: 0.546200\n",
      "Epoch 13, CIFAR-10 Batch 4:  Loss: 111184.6953 Validation Accuracy: 0.545800\n",
      "Epoch 13, CIFAR-10 Batch 5:  Loss: 99126.4375 Validation Accuracy: 0.558800\n",
      "Epoch 14, CIFAR-10 Batch 1:  Loss: 98874.6094 Validation Accuracy: 0.557000\n",
      "Epoch 14, CIFAR-10 Batch 2:  Loss: 87308.9609 Validation Accuracy: 0.551600\n",
      "Epoch 14, CIFAR-10 Batch 3:  Loss: 85178.2500 Validation Accuracy: 0.555000\n",
      "Epoch 14, CIFAR-10 Batch 4:  Loss: 101522.1484 Validation Accuracy: 0.550200\n",
      "Epoch 14, CIFAR-10 Batch 5:  Loss: 87802.4844 Validation Accuracy: 0.557400\n",
      "Epoch 15, CIFAR-10 Batch 1:  Loss: 89946.0078 Validation Accuracy: 0.560600\n",
      "Epoch 15, CIFAR-10 Batch 2:  Loss: 82981.4531 Validation Accuracy: 0.559000\n",
      "Epoch 15, CIFAR-10 Batch 3:  Loss: 80570.0156 Validation Accuracy: 0.555600\n",
      "Epoch 15, CIFAR-10 Batch 4:  Loss: 86175.4766 Validation Accuracy: 0.565200\n",
      "Epoch 15, CIFAR-10 Batch 5:  Loss: 81745.2031 Validation Accuracy: 0.559400\n",
      "Epoch 16, CIFAR-10 Batch 1:  Loss: 78512.0625 Validation Accuracy: 0.566800\n",
      "Epoch 16, CIFAR-10 Batch 2:  Loss: 76273.8906 Validation Accuracy: 0.567400\n",
      "Epoch 16, CIFAR-10 Batch 3:  Loss: 75454.5938 Validation Accuracy: 0.567200\n",
      "Epoch 16, CIFAR-10 Batch 4:  Loss: 78457.6328 Validation Accuracy: 0.569200\n",
      "Epoch 16, CIFAR-10 Batch 5:  Loss: 76004.0938 Validation Accuracy: 0.560800\n",
      "Epoch 17, CIFAR-10 Batch 1:  Loss: 78923.5938 Validation Accuracy: 0.568000\n",
      "Epoch 17, CIFAR-10 Batch 2:  Loss: 70585.1406 Validation Accuracy: 0.561000\n",
      "Epoch 17, CIFAR-10 Batch 3:  Loss: 68920.4375 Validation Accuracy: 0.565600\n",
      "Epoch 17, CIFAR-10 Batch 4:  Loss: 73265.5078 Validation Accuracy: 0.572600\n",
      "Epoch 17, CIFAR-10 Batch 5:  Loss: 73748.6406 Validation Accuracy: 0.561000\n",
      "Epoch 18, CIFAR-10 Batch 1:  Loss: 71859.4609 Validation Accuracy: 0.564400\n",
      "Epoch 18, CIFAR-10 Batch 2:  Loss: 65622.7891 Validation Accuracy: 0.577200\n",
      "Epoch 18, CIFAR-10 Batch 3:  Loss: 65481.5625 Validation Accuracy: 0.570400\n",
      "Epoch 18, CIFAR-10 Batch 4:  Loss: 70750.4922 Validation Accuracy: 0.573200\n",
      "Epoch 18, CIFAR-10 Batch 5:  Loss: 74816.8828 Validation Accuracy: 0.560200\n",
      "Epoch 19, CIFAR-10 Batch 1:  Loss: 65026.1797 Validation Accuracy: 0.581200\n",
      "Epoch 19, CIFAR-10 Batch 2:  Loss: 61987.5273 Validation Accuracy: 0.572400\n",
      "Epoch 19, CIFAR-10 Batch 3:  Loss: 59723.5430 Validation Accuracy: 0.571600\n",
      "Epoch 19, CIFAR-10 Batch 4:  Loss: 65521.1016 Validation Accuracy: 0.580800\n",
      "Epoch 19, CIFAR-10 Batch 5:  Loss: 57700.3633 Validation Accuracy: 0.575800\n",
      "Epoch 20, CIFAR-10 Batch 1:  Loss: 64109.7070 Validation Accuracy: 0.577800\n",
      "Epoch 20, CIFAR-10 Batch 2:  Loss: 56630.5469 Validation Accuracy: 0.575400\n",
      "Epoch 20, CIFAR-10 Batch 3:  Loss: 55968.9180 Validation Accuracy: 0.584600\n",
      "Epoch 20, CIFAR-10 Batch 4:  Loss: 62130.5469 Validation Accuracy: 0.581200\n",
      "Epoch 20, CIFAR-10 Batch 5:  Loss: 56608.7656 Validation Accuracy: 0.579200\n",
      "Epoch 21, CIFAR-10 Batch 1:  Loss: 63938.2539 Validation Accuracy: 0.574600\n",
      "Epoch 21, CIFAR-10 Batch 2:  Loss: 54713.0117 Validation Accuracy: 0.564000\n",
      "Epoch 21, CIFAR-10 Batch 3:  Loss: 57288.4375 Validation Accuracy: 0.578800\n",
      "Epoch 21, CIFAR-10 Batch 4:  Loss: 57134.9023 Validation Accuracy: 0.583800\n",
      "Epoch 21, CIFAR-10 Batch 5:  Loss: 54011.3945 Validation Accuracy: 0.575200\n",
      "Epoch 22, CIFAR-10 Batch 1:  Loss: 56503.9219 Validation Accuracy: 0.581800\n",
      "Epoch 22, CIFAR-10 Batch 2:  Loss: 51605.5938 Validation Accuracy: 0.568400\n"
     ]
    },
    {
     "name": "stdout",
     "output_type": "stream",
     "text": [
      "Epoch 22, CIFAR-10 Batch 3:  Loss: 54880.9180 Validation Accuracy: 0.581200\n",
      "Epoch 22, CIFAR-10 Batch 4:  Loss: 54733.7148 Validation Accuracy: 0.580400\n",
      "Epoch 22, CIFAR-10 Batch 5:  Loss: 50370.5508 Validation Accuracy: 0.580600\n",
      "Epoch 23, CIFAR-10 Batch 1:  Loss: 49179.4805 Validation Accuracy: 0.588600\n",
      "Epoch 23, CIFAR-10 Batch 2:  Loss: 45702.3242 Validation Accuracy: 0.583600\n",
      "Epoch 23, CIFAR-10 Batch 3:  Loss: 48107.7656 Validation Accuracy: 0.579400\n",
      "Epoch 23, CIFAR-10 Batch 4:  Loss: 49151.7852 Validation Accuracy: 0.583200\n",
      "Epoch 23, CIFAR-10 Batch 5:  Loss: 45694.6797 Validation Accuracy: 0.580800\n",
      "Epoch 24, CIFAR-10 Batch 1:  Loss: 46073.1367 Validation Accuracy: 0.591400\n",
      "Epoch 24, CIFAR-10 Batch 2:  Loss: 42922.9805 Validation Accuracy: 0.584000\n",
      "Epoch 24, CIFAR-10 Batch 3:  Loss: 40919.0430 Validation Accuracy: 0.593200\n",
      "Epoch 24, CIFAR-10 Batch 4:  Loss: 45267.9609 Validation Accuracy: 0.590600\n",
      "Epoch 24, CIFAR-10 Batch 5:  Loss: 42980.5234 Validation Accuracy: 0.578600\n",
      "Epoch 25, CIFAR-10 Batch 1:  Loss: 43729.9219 Validation Accuracy: 0.594200\n",
      "Epoch 25, CIFAR-10 Batch 2:  Loss: 41534.3359 Validation Accuracy: 0.576000\n",
      "Epoch 25, CIFAR-10 Batch 3:  Loss: 41720.1016 Validation Accuracy: 0.585000\n",
      "Epoch 25, CIFAR-10 Batch 4:  Loss: 43072.4805 Validation Accuracy: 0.587600\n",
      "Epoch 25, CIFAR-10 Batch 5:  Loss: 37940.1172 Validation Accuracy: 0.589600\n",
      "Epoch 26, CIFAR-10 Batch 1:  Loss: 41868.8125 Validation Accuracy: 0.593600\n",
      "Epoch 26, CIFAR-10 Batch 2:  Loss: 39665.3242 Validation Accuracy: 0.584800\n",
      "Epoch 26, CIFAR-10 Batch 3:  Loss: 39808.1875 Validation Accuracy: 0.593800\n",
      "Epoch 26, CIFAR-10 Batch 4:  Loss: 39174.8750 Validation Accuracy: 0.595000\n",
      "Epoch 26, CIFAR-10 Batch 5:  Loss: 35212.3047 Validation Accuracy: 0.600200\n",
      "Epoch 27, CIFAR-10 Batch 1:  Loss: 38427.1016 Validation Accuracy: 0.604800\n",
      "Epoch 27, CIFAR-10 Batch 2:  Loss: 35637.5898 Validation Accuracy: 0.590600\n",
      "Epoch 27, CIFAR-10 Batch 3:  Loss: 36019.0469 Validation Accuracy: 0.598800\n",
      "Epoch 27, CIFAR-10 Batch 4:  Loss: 37624.6719 Validation Accuracy: 0.593600\n",
      "Epoch 27, CIFAR-10 Batch 5:  Loss: 35855.6758 Validation Accuracy: 0.596400\n",
      "Epoch 28, CIFAR-10 Batch 1:  Loss: 40321.1953 Validation Accuracy: 0.595000\n",
      "Epoch 28, CIFAR-10 Batch 2:  Loss: 35920.6836 Validation Accuracy: 0.589000\n",
      "Epoch 28, CIFAR-10 Batch 3:  Loss: 31541.6465 Validation Accuracy: 0.604200\n",
      "Epoch 28, CIFAR-10 Batch 4:  Loss: 34789.2070 Validation Accuracy: 0.598600\n",
      "Epoch 28, CIFAR-10 Batch 5:  Loss: 29687.8730 Validation Accuracy: 0.601200\n",
      "Epoch 29, CIFAR-10 Batch 1:  Loss: 34579.0117 Validation Accuracy: 0.603800\n",
      "Epoch 29, CIFAR-10 Batch 2:  Loss: 31721.2031 Validation Accuracy: 0.596600\n",
      "Epoch 29, CIFAR-10 Batch 3:  Loss: 29139.7812 Validation Accuracy: 0.597200\n",
      "Epoch 29, CIFAR-10 Batch 4:  Loss: 33349.0078 Validation Accuracy: 0.597200\n",
      "Epoch 29, CIFAR-10 Batch 5:  Loss: 29637.2188 Validation Accuracy: 0.591400\n",
      "Epoch 30, CIFAR-10 Batch 1:  Loss: 33301.6680 Validation Accuracy: 0.605600\n",
      "Epoch 30, CIFAR-10 Batch 2:  Loss: 29929.4746 Validation Accuracy: 0.599000\n",
      "Epoch 30, CIFAR-10 Batch 3:  Loss: 28944.9473 Validation Accuracy: 0.603200\n",
      "Epoch 30, CIFAR-10 Batch 4:  Loss: 29770.5938 Validation Accuracy: 0.599200\n",
      "Epoch 30, CIFAR-10 Batch 5:  Loss: 26886.9609 Validation Accuracy: 0.606600\n",
      "Epoch 31, CIFAR-10 Batch 1:  Loss: 32285.1230 Validation Accuracy: 0.606000\n",
      "Epoch 31, CIFAR-10 Batch 2:  Loss: 28590.1328 Validation Accuracy: 0.607600\n",
      "Epoch 31, CIFAR-10 Batch 3:  Loss: 25784.4609 Validation Accuracy: 0.611400\n",
      "Epoch 31, CIFAR-10 Batch 4:  Loss: 27670.5820 Validation Accuracy: 0.607000\n",
      "Epoch 31, CIFAR-10 Batch 5:  Loss: 25001.6895 Validation Accuracy: 0.606800\n",
      "Epoch 32, CIFAR-10 Batch 1:  Loss: 28810.1504 Validation Accuracy: 0.610000\n",
      "Epoch 32, CIFAR-10 Batch 2:  Loss: 25697.6836 Validation Accuracy: 0.604200\n",
      "Epoch 32, CIFAR-10 Batch 3:  Loss: 25899.7734 Validation Accuracy: 0.610800\n",
      "Epoch 32, CIFAR-10 Batch 4:  Loss: 27872.3594 Validation Accuracy: 0.601400\n",
      "Epoch 32, CIFAR-10 Batch 5:  Loss: 24604.2852 Validation Accuracy: 0.604400\n",
      "Epoch 33, CIFAR-10 Batch 1:  Loss: 27064.9941 Validation Accuracy: 0.609400\n",
      "Epoch 33, CIFAR-10 Batch 2:  Loss: 25001.4102 Validation Accuracy: 0.609800\n",
      "Epoch 33, CIFAR-10 Batch 3:  Loss: 23478.3555 Validation Accuracy: 0.610200\n",
      "Epoch 33, CIFAR-10 Batch 4:  Loss: 24158.8770 Validation Accuracy: 0.609600\n",
      "Epoch 33, CIFAR-10 Batch 5:  Loss: 22656.6406 Validation Accuracy: 0.612400\n",
      "Epoch 34, CIFAR-10 Batch 1:  Loss: 25915.2578 Validation Accuracy: 0.613400\n",
      "Epoch 34, CIFAR-10 Batch 2:  Loss: 23895.4902 Validation Accuracy: 0.611200\n",
      "Epoch 34, CIFAR-10 Batch 3:  Loss: 23092.7148 Validation Accuracy: 0.609400\n",
      "Epoch 34, CIFAR-10 Batch 4:  Loss: 22475.2266 Validation Accuracy: 0.607600\n",
      "Epoch 34, CIFAR-10 Batch 5:  Loss: 21217.4922 Validation Accuracy: 0.607600\n",
      "Epoch 35, CIFAR-10 Batch 1:  Loss: 25437.8789 Validation Accuracy: 0.610400\n",
      "Epoch 35, CIFAR-10 Batch 2:  Loss: 22881.5352 Validation Accuracy: 0.611400\n",
      "Epoch 35, CIFAR-10 Batch 3:  Loss: 21312.1875 Validation Accuracy: 0.611600\n",
      "Epoch 35, CIFAR-10 Batch 4:  Loss: 21035.7168 Validation Accuracy: 0.614000\n",
      "Epoch 35, CIFAR-10 Batch 5:  Loss: 19453.3008 Validation Accuracy: 0.609400\n",
      "Epoch 36, CIFAR-10 Batch 1:  Loss: 24190.4102 Validation Accuracy: 0.613000\n",
      "Epoch 36, CIFAR-10 Batch 2:  Loss: 21012.8555 Validation Accuracy: 0.613200\n",
      "Epoch 36, CIFAR-10 Batch 3:  Loss: 20484.5742 Validation Accuracy: 0.611800\n",
      "Epoch 36, CIFAR-10 Batch 4:  Loss: 20546.9883 Validation Accuracy: 0.612000\n",
      "Epoch 36, CIFAR-10 Batch 5:  Loss: 19321.5430 Validation Accuracy: 0.608400\n",
      "Epoch 37, CIFAR-10 Batch 1:  Loss: 23003.1992 Validation Accuracy: 0.610800\n",
      "Epoch 37, CIFAR-10 Batch 2:  Loss: 19672.3066 Validation Accuracy: 0.613600\n",
      "Epoch 37, CIFAR-10 Batch 3:  Loss: 19880.0508 Validation Accuracy: 0.607800\n",
      "Epoch 37, CIFAR-10 Batch 4:  Loss: 19226.4219 Validation Accuracy: 0.612200\n",
      "Epoch 37, CIFAR-10 Batch 5:  Loss: 17706.1094 Validation Accuracy: 0.608000\n",
      "Epoch 38, CIFAR-10 Batch 1:  Loss: 21772.3926 Validation Accuracy: 0.616000\n",
      "Epoch 38, CIFAR-10 Batch 2:  Loss: 19011.0879 Validation Accuracy: 0.618600\n",
      "Epoch 38, CIFAR-10 Batch 3:  Loss: 19020.0703 Validation Accuracy: 0.604400\n",
      "Epoch 38, CIFAR-10 Batch 4:  Loss: 18376.1738 Validation Accuracy: 0.610400\n",
      "Epoch 38, CIFAR-10 Batch 5:  Loss: 15455.8242 Validation Accuracy: 0.611000\n",
      "Epoch 39, CIFAR-10 Batch 1:  Loss: 19751.7168 Validation Accuracy: 0.614600\n",
      "Epoch 39, CIFAR-10 Batch 2:  Loss: 18485.9121 Validation Accuracy: 0.610200\n",
      "Epoch 39, CIFAR-10 Batch 3:  Loss: 17932.8867 Validation Accuracy: 0.608200\n",
      "Epoch 39, CIFAR-10 Batch 4:  Loss: 16654.0059 Validation Accuracy: 0.615000\n",
      "Epoch 39, CIFAR-10 Batch 5:  Loss: 15712.4805 Validation Accuracy: 0.619200\n",
      "Epoch 40, CIFAR-10 Batch 1:  Loss: 19845.3242 Validation Accuracy: 0.612800\n",
      "Epoch 40, CIFAR-10 Batch 2:  Loss: 18110.1328 Validation Accuracy: 0.610200\n",
      "Epoch 40, CIFAR-10 Batch 3:  Loss: 16846.9629 Validation Accuracy: 0.611200\n",
      "Epoch 40, CIFAR-10 Batch 4:  Loss: 16127.0889 Validation Accuracy: 0.610800\n",
      "Epoch 40, CIFAR-10 Batch 5:  Loss: 13499.9951 Validation Accuracy: 0.619800\n",
      "Epoch 41, CIFAR-10 Batch 1:  Loss: 18440.8262 Validation Accuracy: 0.612000\n",
      "Epoch 41, CIFAR-10 Batch 2:  Loss: 15725.2852 Validation Accuracy: 0.616200\n",
      "Epoch 41, CIFAR-10 Batch 3:  Loss: 15908.5674 Validation Accuracy: 0.609800\n",
      "Epoch 41, CIFAR-10 Batch 4:  Loss: 15812.7832 Validation Accuracy: 0.609000\n",
      "Epoch 41, CIFAR-10 Batch 5:  Loss: 12981.5811 Validation Accuracy: 0.616200\n",
      "Epoch 42, CIFAR-10 Batch 1:  Loss: 18471.1777 Validation Accuracy: 0.612000\n",
      "Epoch 42, CIFAR-10 Batch 2:  Loss: 14944.8164 Validation Accuracy: 0.617200\n",
      "Epoch 42, CIFAR-10 Batch 3:  Loss: 14565.9551 Validation Accuracy: 0.613600\n",
      "Epoch 42, CIFAR-10 Batch 4:  Loss: 14222.7578 Validation Accuracy: 0.619800\n",
      "Epoch 42, CIFAR-10 Batch 5:  Loss: 11993.1055 Validation Accuracy: 0.616600\n",
      "Epoch 43, CIFAR-10 Batch 1:  Loss: 17522.6406 Validation Accuracy: 0.614800\n",
      "Epoch 43, CIFAR-10 Batch 2:  Loss: 14191.1895 Validation Accuracy: 0.615200\n",
      "Epoch 43, CIFAR-10 Batch 3:  Loss: 13266.9941 Validation Accuracy: 0.613400\n",
      "Epoch 43, CIFAR-10 Batch 4:  Loss: 13029.3525 Validation Accuracy: 0.617400\n",
      "Epoch 43, CIFAR-10 Batch 5:  Loss: 11210.6719 Validation Accuracy: 0.616600\n"
     ]
    },
    {
     "name": "stdout",
     "output_type": "stream",
     "text": [
      "Epoch 44, CIFAR-10 Batch 1:  Loss: 15733.4180 Validation Accuracy: 0.618400\n",
      "Epoch 44, CIFAR-10 Batch 2:  Loss: 13011.9307 Validation Accuracy: 0.616200\n",
      "Epoch 44, CIFAR-10 Batch 3:  Loss: 13534.3232 Validation Accuracy: 0.610000\n",
      "Epoch 44, CIFAR-10 Batch 4:  Loss: 12590.8369 Validation Accuracy: 0.616400\n",
      "Epoch 44, CIFAR-10 Batch 5:  Loss: 11130.4678 Validation Accuracy: 0.619200\n",
      "Epoch 45, CIFAR-10 Batch 1:  Loss: 15243.9883 Validation Accuracy: 0.613600\n",
      "Epoch 45, CIFAR-10 Batch 2:  Loss: 12442.0654 Validation Accuracy: 0.615200\n",
      "Epoch 45, CIFAR-10 Batch 3:  Loss: 11918.1025 Validation Accuracy: 0.615000\n",
      "Epoch 45, CIFAR-10 Batch 4:  Loss: 11557.8711 Validation Accuracy: 0.616600\n",
      "Epoch 45, CIFAR-10 Batch 5:  Loss: 10063.8301 Validation Accuracy: 0.616600\n",
      "Epoch 46, CIFAR-10 Batch 1:  Loss: 14501.5713 Validation Accuracy: 0.617200\n",
      "Epoch 46, CIFAR-10 Batch 2:  Loss: 11975.7568 Validation Accuracy: 0.614600\n",
      "Epoch 46, CIFAR-10 Batch 3:  Loss: 11178.1914 Validation Accuracy: 0.618600\n",
      "Epoch 46, CIFAR-10 Batch 4:  Loss: 11197.1230 Validation Accuracy: 0.612200\n",
      "Epoch 46, CIFAR-10 Batch 5:  Loss:  9074.9180 Validation Accuracy: 0.614800\n",
      "Epoch 47, CIFAR-10 Batch 1:  Loss: 14277.0508 Validation Accuracy: 0.613000\n",
      "Epoch 47, CIFAR-10 Batch 2:  Loss: 11216.7764 Validation Accuracy: 0.617000\n",
      "Epoch 47, CIFAR-10 Batch 3:  Loss: 10858.1914 Validation Accuracy: 0.616000\n",
      "Epoch 47, CIFAR-10 Batch 4:  Loss: 10887.8867 Validation Accuracy: 0.613200\n",
      "Epoch 47, CIFAR-10 Batch 5:  Loss:  9298.0957 Validation Accuracy: 0.613600\n",
      "Epoch 48, CIFAR-10 Batch 1:  Loss: 14286.7139 Validation Accuracy: 0.609400\n",
      "Epoch 48, CIFAR-10 Batch 2:  Loss: 11150.5488 Validation Accuracy: 0.614600\n",
      "Epoch 48, CIFAR-10 Batch 3:  Loss: 10533.2578 Validation Accuracy: 0.614800\n",
      "Epoch 48, CIFAR-10 Batch 4:  Loss: 10314.1279 Validation Accuracy: 0.614400\n",
      "Epoch 48, CIFAR-10 Batch 5:  Loss:  8939.6201 Validation Accuracy: 0.618000\n",
      "Epoch 49, CIFAR-10 Batch 1:  Loss: 12599.8379 Validation Accuracy: 0.612600\n",
      "Epoch 49, CIFAR-10 Batch 2:  Loss: 10121.1309 Validation Accuracy: 0.616600\n",
      "Epoch 49, CIFAR-10 Batch 3:  Loss: 10062.8652 Validation Accuracy: 0.614200\n",
      "Epoch 49, CIFAR-10 Batch 4:  Loss:  9360.4287 Validation Accuracy: 0.615800\n",
      "Epoch 49, CIFAR-10 Batch 5:  Loss:  7925.6162 Validation Accuracy: 0.617000\n",
      "Epoch 50, CIFAR-10 Batch 1:  Loss: 12436.8486 Validation Accuracy: 0.613000\n",
      "Epoch 50, CIFAR-10 Batch 2:  Loss: 10517.7207 Validation Accuracy: 0.612000\n",
      "Epoch 50, CIFAR-10 Batch 3:  Loss:  9256.8672 Validation Accuracy: 0.612000\n",
      "Epoch 50, CIFAR-10 Batch 4:  Loss:  9822.1074 Validation Accuracy: 0.612400\n",
      "Epoch 50, CIFAR-10 Batch 5:  Loss:  7432.7515 Validation Accuracy: 0.614600\n"
     ]
    }
   ],
   "source": [
    "\"\"\"\n",
    "DON'T MODIFY ANYTHING IN THIS CELL\n",
    "\"\"\"\n",
    "save_model_path = './image_classification'\n",
    "\n",
    "print('Training...')\n",
    "with tf.Session() as sess:\n",
    "    # Initializing the variables\n",
    "    sess.run(tf.global_variables_initializer())\n",
    "    \n",
    "    # Training cycle\n",
    "    for epoch in range(epochs):\n",
    "        # Loop over all batches\n",
    "        n_batches = 5\n",
    "        for batch_i in range(1, n_batches + 1):\n",
    "            for batch_features, batch_labels in helper.load_preprocess_training_batch(batch_i, batch_size):\n",
    "                train_neural_network(sess, optimizer, keep_probability, batch_features, batch_labels)\n",
    "            print('Epoch {:>2}, CIFAR-10 Batch {}:  '.format(epoch + 1, batch_i), end='')\n",
    "            print_stats(sess, batch_features, batch_labels, cost, accuracy)\n",
    "            \n",
    "    # Save Model\n",
    "    saver = tf.train.Saver()\n",
    "    save_path = saver.save(sess, save_model_path)"
   ]
  },
  {
   "cell_type": "markdown",
   "metadata": {},
   "source": [
    "# Checkpoint\n",
    "The model has been saved to disk.\n",
    "## Test Model\n",
    "Test your model against the test dataset.  This will be your final accuracy. You should have an accuracy greater than 50%. If you don't, keep tweaking the model architecture and parameters."
   ]
  },
  {
   "cell_type": "code",
   "execution_count": 44,
   "metadata": {},
   "outputs": [
    {
     "name": "stdout",
     "output_type": "stream",
     "text": [
      "INFO:tensorflow:Restoring parameters from ./image_classification\n",
      "Testing Accuracy: 0.6212052345275879\n",
      "\n"
     ]
    },
    {
     "data": {
      "image/png": "[encoded data removed]",
      "text/plain": [
       "<matplotlib.figure.Figure at 0x7f70069f9320>"
      ]
     },
     "metadata": {
      "image/png": {
       "height": 319,
       "width": 349
      }
     },
     "output_type": "display_data"
    }
   ],
   "source": [
    "\"\"\"\n",
    "DON'T MODIFY ANYTHING IN THIS CELL\n",
    "\"\"\"\n",
    "%matplotlib inline\n",
    "%config InlineBackend.figure_format = 'retina'\n",
    "\n",
    "import tensorflow as tf\n",
    "import pickle\n",
    "import helper\n",
    "import random\n",
    "\n",
    "# Set batch size if not already set\n",
    "try:\n",
    "    if batch_size:\n",
    "        pass\n",
    "except NameError:\n",
    "    batch_size = 64\n",
    "\n",
    "save_model_path = './image_classification'\n",
    "n_samples = 4\n",
    "top_n_predictions = 3\n",
    "\n",
    "def test_model():\n",
    "    \"\"\"\n",
    "    Test the saved model against the test dataset\n",
    "    \"\"\"\n",
    "\n",
    "    test_features, test_labels = pickle.load(open('preprocess_test.p', mode='rb'))\n",
    "    loaded_graph = tf.Graph()\n",
    "\n",
    "    with tf.Session(graph=loaded_graph) as sess:\n",
    "        # Load model\n",
    "        loader = tf.train.import_meta_graph(save_model_path + '.meta')\n",
    "        loader.restore(sess, save_model_path)\n",
    "\n",
    "        # Get Tensors from loaded model\n",
    "        loaded_x = loaded_graph.get_tensor_by_name('x:0')\n",
    "        loaded_y = loaded_graph.get_tensor_by_name('y:0')\n",
    "        loaded_keep_prob = loaded_graph.get_tensor_by_name('keep_prob:0')\n",
    "        loaded_logits = loaded_graph.get_tensor_by_name('logits:0')\n",
    "        loaded_acc = loaded_graph.get_tensor_by_name('accuracy:0')\n",
    "        \n",
    "        # Get accuracy in batches for memory limitations\n",
    "        test_batch_acc_total = 0\n",
    "        test_batch_count = 0\n",
    "        \n",
    "        for test_feature_batch, test_label_batch in helper.batch_features_labels(test_features, test_labels, batch_size):\n",
    "            test_batch_acc_total += sess.run(\n",
    "                loaded_acc,\n",
    "                feed_dict={loaded_x: test_feature_batch, loaded_y: test_label_batch, loaded_keep_prob: 1.0})\n",
    "            test_batch_count += 1\n",
    "\n",
    "        print('Testing Accuracy: {}\\n'.format(test_batch_acc_total/test_batch_count))\n",
    "\n",
    "        # Print Random Samples\n",
    "        random_test_features, random_test_labels = tuple(zip(*random.sample(list(zip(test_features, test_labels)), n_samples)))\n",
    "        random_test_predictions = sess.run(\n",
    "            tf.nn.top_k(tf.nn.softmax(loaded_logits), top_n_predictions),\n",
    "            feed_dict={loaded_x: random_test_features, loaded_y: random_test_labels, loaded_keep_prob: 1.0})\n",
    "        helper.display_image_predictions(random_test_features, random_test_labels, random_test_predictions)\n",
    "\n",
    "\n",
    "test_model()"
   ]
  },
  {
   "cell_type": "markdown",
   "metadata": {},
   "source": [
    "## Why 50-80% Accuracy?\n",
    "You might be wondering why you can't get an accuracy any higher. First things first, 50% isn't bad for a simple CNN.  Pure guessing would get you 10% accuracy. However, you might notice people are getting scores [well above 80%](http://rodrigob.github.io/are_we_there_yet/build/classification_datasets_results.html#43494641522d3130).  That's because we haven't taught you all there is to know about neural networks. We still need to cover a few more techniques.\n",
    "## Submitting This Project\n",
    "When submitting this project, make sure to run all the cells before saving the notebook.  Save the notebook file as \"dlnd_image_classification.ipynb\" and save it as a HTML file under \"File\" -> \"Download as\".  Include the \"helper.py\" and \"problem_unittests.py\" files in your submission."
   ]
  }
 ],
 "metadata": {
  "kernelspec": {
   "display_name": "Python 3",
   "language": "python",
   "name": "python3"
  },
  "language_info": {
   "codemirror_mode": {
    "name": "ipython",
    "version": 3
   },
   "file_extension": ".py",
   "mimetype": "text/x-python",
   "name": "python",
   "nbconvert_exporter": "python",
   "pygments_lexer": "ipython3",
   "version": "3.6.1"
  }
 },
 "nbformat": 4,
 "nbformat_minor": 1
}
